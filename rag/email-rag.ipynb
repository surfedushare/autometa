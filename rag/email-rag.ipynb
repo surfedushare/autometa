{
 "cells": [
  {
   "cell_type": "markdown",
   "id": "0103fb42-811f-4a55-aeae-5d1e90a65c02",
   "metadata": {},
   "source": [
    "Based on: \n",
    "* https://python.langchain.com/docs/tutorials/rag/\n",
    "* https://python.langchain.com/docs/how_to/document_loader_directory/\n",
    "* https://python.langchain.com/docs/integrations/document_loaders/email/"
   ]
  },
  {
   "cell_type": "code",
   "execution_count": null,
   "id": "989dccce-3a98-4b53-a12e-1f2250628a0a",
   "metadata": {},
   "outputs": [],
   "source": [
    "import os\n",
    "import shutil\n",
    "from difflib import SequenceMatcher\n",
    "from devtools import debug\n",
    "from dotenv import load_dotenv\n",
    "load_dotenv()"
   ]
  },
  {
   "cell_type": "code",
   "execution_count": 24,
   "id": "c7c6757b-2003-42ac-bd1c-3d4404b3801e",
   "metadata": {},
   "outputs": [],
   "source": [
    "from langchain import hub\n",
    "from langchain_core.output_parsers import StrOutputParser\n",
    "from langchain_core.runnables import RunnablePassthrough\n",
    "from langchain_chroma import Chroma\n",
    "from langchain_community.document_loaders import DirectoryLoader, UnstructuredEmailLoader\n",
    "from langchain_text_splitters import RecursiveCharacterTextSplitter\n",
    "from langchain_openai import ChatOpenAI, OpenAIEmbeddings"
   ]
  },
  {
   "cell_type": "code",
   "execution_count": null,
   "id": "680228dc-9855-4a14-a895-57cd086a683f",
   "metadata": {},
   "outputs": [],
   "source": [
    "loader = DirectoryLoader(\n",
    "    \"./data/emails\", glob=\"*.eml\", \n",
    "    loader_cls=UnstructuredEmailLoader, \n",
    "    show_progress=True, \n",
    "    use_multithreading=True\n",
    ")\n",
    "docs = loader.load()"
   ]
  },
  {
   "cell_type": "code",
   "execution_count": 5,
   "id": "e6a5b4c5-2fb4-4625-af01-211041cdd991",
   "metadata": {},
   "outputs": [],
   "source": [
    "def is_similar(text1: str, text2: str, threshold: float = 0.8) -> bool:\n",
    "    return SequenceMatcher(None, text1, text2).ratio() > threshold\n",
    "\n",
    "def deduplicate_documents(docs):\n",
    "    unique_docs = []\n",
    "    \n",
    "    for doc in docs:\n",
    "        # Check if current doc is similar to any existing unique doc\n",
    "        if not any(is_similar(doc.page_content, existing.page_content) \n",
    "                  for existing in unique_docs):\n",
    "            unique_docs.append(doc)\n",
    "            \n",
    "    return unique_docs"
   ]
  },
  {
   "cell_type": "code",
   "execution_count": 6,
   "id": "ef1c4fdd-2b26-410d-8947-5b0068d7ab39",
   "metadata": {},
   "outputs": [],
   "source": [
    "text_splitter = RecursiveCharacterTextSplitter(\n",
    "    chunk_size=1000, chunk_overlap=200, add_start_index=True\n",
    ")\n",
    "all_splits = text_splitter.split_documents(docs)\n",
    "unique_splits = deduplicate_documents(all_splits)"
   ]
  },
  {
   "cell_type": "code",
   "execution_count": 1,
   "id": "d648fc61-8fbe-4315-949a-01d327b83f30",
   "metadata": {},
   "outputs": [],
   "source": [
    "def create_or_load_vectorstore(documents, persist_directory=\"./chroma_db\", force_recreate=False):\n",
    "    \"\"\"\n",
    "    Creates a new vectorstore or loads an existing one from disk.\n",
    "    \n",
    "    Args:\n",
    "        documents: List of documents to embed\n",
    "        persist_directory: Directory to save/load the vectorstore\n",
    "        force_recreate: If True, recreates the vectorstore even if it exists\n",
    "        \n",
    "    Returns:\n",
    "        Chroma: The vectorstore instance\n",
    "    \"\"\"\n",
    "    # Initialize embedding function\n",
    "    embedding_function = OpenAIEmbeddings()\n",
    "    \n",
    "    # Check if directory exists and contains a valid Chroma database\n",
    "    has_valid_store = (\n",
    "        os.path.exists(persist_directory) and\n",
    "        os.path.exists(os.path.join(persist_directory, \"chroma.sqlite3\"))\n",
    "    )\n",
    "    \n",
    "    if has_valid_store and not force_recreate:\n",
    "        print(\"Loading existing vectorstore...\")\n",
    "        try:\n",
    "            vectorstore = Chroma(\n",
    "                persist_directory=persist_directory,\n",
    "                embedding_function=embedding_function\n",
    "            )\n",
    "            # Attempt to get collection stats to verify it's working\n",
    "            try:\n",
    "                collection_stats = vectorstore._collection.count()\n",
    "                if collection_stats == 0:\n",
    "                    print(\"Warning: Existing vectorstore is empty. Creating new one...\")\n",
    "                    has_valid_store = False\n",
    "            except Exception:\n",
    "                print(\"Warning: Could not verify vectorstore content. Creating new one...\")\n",
    "                has_valid_store = False\n",
    "                \n",
    "        except Exception as e:\n",
    "            print(f\"Error loading existing vectorstore: {e}\")\n",
    "            print(\"Creating new vectorstore instead...\")\n",
    "            has_valid_store = False\n",
    "            \n",
    "    if not has_valid_store or force_recreate:\n",
    "        print(\"Creating new vectorstore...\")\n",
    "        # Clean up any existing invalid or partial data\n",
    "        if os.path.exists(persist_directory):\n",
    "            shutil.rmtree(persist_directory)\n",
    "            \n",
    "        # Create new vectorstore\n",
    "        vectorstore = Chroma.from_documents(\n",
    "            documents=documents,\n",
    "            embedding=embedding_function,\n",
    "            persist_directory=persist_directory\n",
    "        )\n",
    "        \n",
    "    return vectorstore"
   ]
  },
  {
   "cell_type": "code",
   "execution_count": 19,
   "id": "b61db902-ba80-4380-87e6-bfddf1ac8bad",
   "metadata": {},
   "outputs": [
    {
     "name": "stdout",
     "output_type": "stream",
     "text": [
      "Creating new vectorstore...\n"
     ]
    }
   ],
   "source": [
    "store = create_or_load_vectorstore(unique_splits)"
   ]
  },
  {
   "cell_type": "code",
   "execution_count": 33,
   "id": "5eca88ef-c454-491a-9afc-293ddeb10a33",
   "metadata": {},
   "outputs": [
    {
     "data": {
      "text/plain": [
       "20"
      ]
     },
     "execution_count": 33,
     "metadata": {},
     "output_type": "execute_result"
    }
   ],
   "source": [
    "retriever = store.as_retriever(search_type=\"similarity\", search_kwargs={\"k\": 20})\n",
    "\n",
    "retrieved_docs = retriever.invoke(\"Welke problemen zijn er met CP20?\")\n",
    "\n",
    "len(retrieved_docs)"
   ]
  },
  {
   "cell_type": "code",
   "execution_count": 25,
   "id": "bc7cde15-f752-489b-adec-d3fcc2e3aeea",
   "metadata": {},
   "outputs": [],
   "source": [
    "llm = ChatOpenAI(model=\"gpt-4\")\n",
    "prompt = hub.pull(\"rlm/rag-prompt\")\n",
    "\n",
    "\n",
    "def format_docs(docs):\n",
    "    return \"\\n\\n\".join(doc.page_content for doc in docs)\n",
    "\n",
    "\n",
    "rag_chain = (\n",
    "    {\"context\": retriever | format_docs, \"question\": RunnablePassthrough()}\n",
    "    | prompt\n",
    "    | llm\n",
    "    | StrOutputParser()\n",
    ")"
   ]
  },
  {
   "cell_type": "code",
   "execution_count": 34,
   "id": "4d7419ff-f682-4596-b98d-c2fe5a0b955a",
   "metadata": {},
   "outputs": [
    {
     "data": {
      "text/plain": [
       "'De problemen met CP20 betreffen de opvoerhoogte die handmatig gewijzigd moest worden van 1m naar 13.9m om de flow in de appartementen te herstellen. Bovendien, als CP20 spanningsloos is geweest, zet het systeem de setpoint automatisch op 0% in plaats van de laatst bekende waarde. Dit zijn de voornaamste problemen die uit de gegeven context naar voren komen.'"
      ]
     },
     "execution_count": 34,
     "metadata": {},
     "output_type": "execute_result"
    }
   ],
   "source": [
    "rag_chain.invoke(\"Welke problemen zijn er met CP20?\")"
   ]
  },
  {
   "cell_type": "code",
   "execution_count": 35,
   "id": "68fef868-f74f-4e18-8939-cc0e6f93ad23",
   "metadata": {},
   "outputs": [
    {
     "data": {
      "text/plain": [
       "'De problemen met CP19 zijn niet specifiek genoemd in de tekst. Echter, er wordt wel vermeld dat de Wilo pompen (CP05 tot CP19) een foutmelding geven bij een te laag setpoint in de WarmtePompManager (te hoge druk). Een ander probleem dat wordt genoemd, maar niet specifiek aan CP19 is gekoppeld, is dat de modbus adressen van de WarmtePomp nr4 en 6 soms omdraaien bij het opstarten zonder spanning.'"
      ]
     },
     "execution_count": 35,
     "metadata": {},
     "output_type": "execute_result"
    }
   ],
   "source": [
    "rag_chain.invoke(\"Welke problemen zijn er met CP19?\")"
   ]
  },
  {
   "cell_type": "code",
   "execution_count": null,
   "id": "2a19230f-2855-487c-a506-e9b042787eb0",
   "metadata": {},
   "outputs": [],
   "source": [
    "rag_chain.invoke(\"Welke werkzaamheden zijn er geweest op LH 65\")"
   ]
  },
  {
   "cell_type": "code",
   "execution_count": null,
   "id": "1aa814e3-77eb-426b-b6d3-1234b118aefa",
   "metadata": {},
   "outputs": [],
   "source": [
    "rag_chain.invoke(\"Welke LH adressen hebben allemaal last bij problemen met CP22 en geef een korte omschrijving van de problemen\")"
   ]
  },
  {
   "cell_type": "code",
   "execution_count": null,
   "id": "5c6ba4db-2817-491c-94a5-9a25323f2303",
   "metadata": {},
   "outputs": [],
   "source": [
    "debug(retriever.invoke(\"Welke LH adressen hebben allemaal last bij problemen met CP22?\"))"
   ]
  },
  {
   "cell_type": "code",
   "execution_count": null,
   "id": "71749f33-66b8-4f97-9404-d019a451dd5d",
   "metadata": {},
   "outputs": [],
   "source": [
    "rag_chain.invoke(\"Welke werkzaamheden zijn er geweest op LH 99\")"
   ]
  },
  {
   "cell_type": "code",
   "execution_count": null,
   "id": "5d96a456-513f-4521-9e11-8009eda36480",
   "metadata": {},
   "outputs": [],
   "source": [
    "debug(retriever.invoke(\"Welke werkzaamheden zijn er geweest op LH 99\"))"
   ]
  },
  {
   "cell_type": "code",
   "execution_count": 39,
   "id": "b17ba133-ad72-4ed7-9da0-3c199187646d",
   "metadata": {},
   "outputs": [
    {
     "data": {
      "text/plain": [
       "'Het is niet expliciet vermeld in de tekst welk appartement een display afleverset mist.'"
      ]
     },
     "execution_count": 39,
     "metadata": {},
     "output_type": "execute_result"
    }
   ],
   "source": [
    "rag_chain.invoke(\"Bij welk apartement mist er een display afleverset?\")"
   ]
  },
  {
   "cell_type": "code",
   "execution_count": null,
   "id": "d908dbd2-83fa-4cf7-917b-ab1348699f04",
   "metadata": {},
   "outputs": [],
   "source": [
    "rag_chain.invoke(\"Welke informatie heb je rondom werkorder 101326480?\")"
   ]
  }
 ],
 "metadata": {
  "kernelspec": {
   "display_name": "Python 3 (ipykernel)",
   "language": "python",
   "name": "python3"
  },
  "language_info": {
   "codemirror_mode": {
    "name": "ipython",
    "version": 3
   },
   "file_extension": ".py",
   "mimetype": "text/x-python",
   "name": "python",
   "nbconvert_exporter": "python",
   "pygments_lexer": "ipython3",
   "version": "3.12.7"
  }
 },
 "nbformat": 4,
 "nbformat_minor": 5
}
