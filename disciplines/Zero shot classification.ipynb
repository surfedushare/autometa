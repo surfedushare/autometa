{
 "cells": [
  {
   "cell_type": "markdown",
   "id": "45cb95c0",
   "metadata": {},
   "source": [
    "Zero-shot classification of disciplines\n",
    "===============================\n",
    "\n",
    "Learning materials have educational disciplines (vakgebieden) associated with them. This notebook investigates if a unsupervised learning technique called \"zero-shot classification\" can be used to determine the discipline of a learning material where none is given.\n",
    "\n",
    "We assume that a 95% precision is necessary for predictions to be useful."
   ]
  },
  {
   "cell_type": "code",
   "execution_count": 1,
   "id": "1d854f7a",
   "metadata": {},
   "outputs": [],
   "source": [
    "import torch\n",
    "from transformers import pipeline\n",
    "import datasets\n",
    "from datasets import load_dataset\n",
    "\n",
    "from sklearn.metrics import classification_report, precision_recall_curve, PrecisionRecallDisplay"
   ]
  },
  {
   "cell_type": "code",
   "execution_count": 2,
   "id": "d84741b0",
   "metadata": {},
   "outputs": [],
   "source": [
    "datasets.logging.disable_progress_bar()"
   ]
  },
  {
   "cell_type": "markdown",
   "id": "86609b63",
   "metadata": {},
   "source": [
    "The data and labels\n",
    "----------------------------\n",
    "\n",
    "There are 11 different disciplines that can be assigned to a learning material. One discipline is \"interdisciplinairy\" and this means that multiple other disciplines apply. For this test we exclude it. We could assign this discipline if a few other disciplines match equally well. However because \"interdisciplinairy\" as a discipline is not really related to specific content it is not suitable for zero-shot classification.\n",
    "\n",
    "Data is preprocessed outside of this notebook. A script in the same folder as this notebook named ``dataset.py`` shows how the dataset was constructed from learning materials taken from Sharekit by the Harvester Django project. The data adheres to the following:\n",
    "* Every material is English, because we're working with an English language model\n",
    "* Every material has at least one discipline that is not \"interdisciplinairy\"\n",
    "* Every material has at least a description which we can use as input for the zero-shot classification\n"
   ]
  },
  {
   "cell_type": "code",
   "execution_count": 3,
   "id": "c7746748",
   "metadata": {},
   "outputs": [],
   "source": [
    "# To do zero-shot classification in English we need the labels to be English\n",
    "# and hold as much semantic value as possible\n",
    "discipline_labels = {\n",
    "    \"behaviour society\": \"gedrag_maatschappij\",\n",
    "    \"law policy\": \"recht_bestuur\",\n",
    "    \"education upbringing\": \"onderwijs_opvoeding\",\n",
    "    \"language communication\": \"taal_communicatie\",\n",
    "    \"technology\": \"techniek\",\n",
    "    \"health medicine\": \"gezondheid\",\n",
    "    \"science engineering mathematics computers\": \"exact_informatica\",\n",
    "    \"economy business\": \"economie_bedrijf\",\n",
    "    \"planet environment\" : \"aarde_milieu\",\n",
    "    \"arts culture\": \"kunst_cultuur\",\n",
    "}"
   ]
  },
  {
   "cell_type": "code",
   "execution_count": 4,
   "id": "2b0c11a4",
   "metadata": {},
   "outputs": [
    {
     "name": "stderr",
     "output_type": "stream",
     "text": [
      "Using custom data configuration default-e4c05ab598ff697e\n",
      "Found cached dataset json (/home/fako/.cache/huggingface/datasets/json/default-e4c05ab598ff697e/0.0.0/e6070c77f18f01a5ad4551a8b7edfba20b8438b7cad4d94e6ad9378022ce4aab)\n"
     ]
    }
   ],
   "source": [
    "data = load_dataset(\"json\", data_files=\"data.json\")"
   ]
  },
  {
   "cell_type": "code",
   "execution_count": 5,
   "id": "a46acb32",
   "metadata": {},
   "outputs": [
    {
     "data": {
      "text/plain": [
       "[['exact_informatica', 'techniek', 'onderwijs_opvoeding'],\n",
       " ['onderwijs_opvoeding', 'exact_informatica', 'techniek'],\n",
       " ['onderwijs_opvoeding', 'exact_informatica', 'techniek'],\n",
       " ['onderwijs_opvoeding', 'exact_informatica', 'techniek'],\n",
       " ['onderwijs_opvoeding', 'exact_informatica', 'techniek'],\n",
       " ['onderwijs_opvoeding', 'exact_informatica', 'techniek'],\n",
       " ['onderwijs_opvoeding', 'exact_informatica', 'techniek'],\n",
       " ['onderwijs_opvoeding', 'exact_informatica', 'techniek'],\n",
       " ['onderwijs_opvoeding', 'exact_informatica', 'techniek'],\n",
       " ['onderwijs_opvoeding', 'exact_informatica', 'techniek']]"
      ]
     },
     "execution_count": 5,
     "metadata": {},
     "output_type": "execute_result"
    }
   ],
   "source": [
    "# Lets see what labels we're looking for\n",
    "data[\"train\"][\"discipline\"][:10]"
   ]
  },
  {
   "cell_type": "code",
   "execution_count": 6,
   "id": "81b80570",
   "metadata": {},
   "outputs": [
    {
     "name": "stderr",
     "output_type": "stream",
     "text": [
      "Parameter 'function'=<function <lambda> at 0x7fd4315ec8b0> of the transform datasets.arrow_dataset.Dataset._map_single couldn't be hashed properly, a random hash was used instead. Make sure your transforms and parameters are serializable with pickle or dill for the dataset fingerprinting and caching to work. If you reuse this transform, the caching mechanism will consider it to be different from the previous calls and recompute everything. This warning is only showed once. Subsequent hashing failures won't be showed.\n"
     ]
    }
   ],
   "source": [
    "# Merging title and description into an input feature that we can feed to the model\n",
    "data[\"train\"] = data[\"train\"].map(lambda item: {\"input\": f\"{item['title']}\\n\\n{item['description']}\"})"
   ]
  },
  {
   "cell_type": "code",
   "execution_count": 8,
   "id": "f0e89d91",
   "metadata": {},
   "outputs": [
    {
     "data": {
      "text/plain": [
       "{'0-20': 1,\n",
       " '20-40': 33,\n",
       " '40-60': 103,\n",
       " '60-80': 80,\n",
       " '80-100': 77,\n",
       " '100-120': 78,\n",
       " '120-140': 51,\n",
       " '140-160': 40,\n",
       " '160-180': 50,\n",
       " '180-200': 62}"
      ]
     },
     "execution_count": 8,
     "metadata": {},
     "output_type": "execute_result"
    }
   ],
   "source": [
    "# And lets see what kind of input we're going to give to the model\n",
    "buckets = {\n",
    "    \"0-20\": (0, 20,),\n",
    "    \"20-40\": (20, 40,),\n",
    "    \"40-60\": (40, 60,),\n",
    "    \"60-80\": (60, 80,),\n",
    "    \"80-100\": (80, 100,),\n",
    "    \"100-120\": (100, 120,),\n",
    "    \"120-140\": (120, 140,),\n",
    "    \"140-160\": (140, 160,),\n",
    "    \"160-180\": (160, 180,),\n",
    "    \"180-200\": (180, 200,),\n",
    "}\n",
    "description_sizes = {\n",
    "    label: len(data[\"train\"].filter(lambda item: len(item[\"input\"]) > size[0] and len(item[\"input\"]) < size[1]))\n",
    "    for label, size in buckets.items()\n",
    "}\n",
    "description_sizes"
   ]
  },
  {
   "cell_type": "code",
   "execution_count": 9,
   "id": "fbc1aa3f",
   "metadata": {},
   "outputs": [
    {
     "data": {
      "text/plain": [
       "DatasetDict({\n",
       "    train: Dataset({\n",
       "        features: ['id', 'title', 'description', 'text', 'discipline', 'input'],\n",
       "        num_rows: 1058\n",
       "    })\n",
       "    test: Dataset({\n",
       "        features: ['id', 'title', 'description', 'text', 'discipline', 'input'],\n",
       "        num_rows: 118\n",
       "    })\n",
       "})"
      ]
     },
     "execution_count": 9,
     "metadata": {},
     "output_type": "execute_result"
    }
   ],
   "source": [
    "# Based on the buckets and common sense a minimal lenght of 50 for the description seems reasonable.\n",
    "# That cuts away some of our data, but it's likely to improve results \n",
    "# as we'll have to give the classifier something to work with.\n",
    "longer_input_data = data.filter(lambda item: len(item[\"input\"]) >= 50)\n",
    "\n",
    "# Even though we're using an unsupervised method, we want some data in a test set \n",
    "# to prevent overfitting when determining thresholds.\n",
    "prepared_data = longer_input_data[\"train\"].train_test_split(test_size=0.1)\n",
    "prepared_data"
   ]
  },
  {
   "cell_type": "markdown",
   "id": "77b7db7e",
   "metadata": {},
   "source": [
    "Zero-shot model\n",
    "------------------------\n",
    "\n",
    "We're using the HuggingFace library with Torch to make things easy for ourselves.\n",
    "The model we're using is a relatively small model to be able to run it on laptops.\n",
    "\n",
    "We're saving the output of the model to a local file to prevent having to run the classification repeatedly.\n",
    "It takes a while to classify 800 examples."
   ]
  },
  {
   "cell_type": "code",
   "execution_count": 10,
   "id": "9265d82b",
   "metadata": {},
   "outputs": [
    {
     "name": "stdout",
     "output_type": "stream",
     "text": [
      "Creating classifier on device: cuda:0\n"
     ]
    }
   ],
   "source": [
    "# Loading the model\n",
    "device = \"cuda:0\" if torch.cuda.is_available() else \"cpu\"\n",
    "print(f\"Creating classifier on device: {device}\")\n",
    "classifier = pipeline(\n",
    "    \"zero-shot-classification\", \n",
    "    model=\"facebook/bart-large-mnli\", revision=\"c626438\", \n",
    "    device=device\n",
    ")"
   ]
  },
  {
   "cell_type": "code",
   "execution_count": 15,
   "id": "bc0afb1a",
   "metadata": {},
   "outputs": [],
   "source": [
    "# Using the model to predict labels based on description input\n",
    "predictions = classifier(\n",
    "    sequences=prepared_data[\"train\"][\"input\"], \n",
    "    candidate_labels=list(discipline_labels.keys())\n",
    ")"
   ]
  },
  {
   "cell_type": "code",
   "execution_count": 16,
   "id": "ff3afbc7",
   "metadata": {},
   "outputs": [],
   "source": [
    "# This cell saves predictions to use them at a later time\n",
    "import json\n",
    "with open(\"predictions-title-description-50.json\", \"w\") as json_file:\n",
    "    json.dump(predictions, json_file, indent=4)"
   ]
  },
  {
   "cell_type": "code",
   "execution_count": 17,
   "id": "5c0f76b1",
   "metadata": {},
   "outputs": [],
   "source": [
    "# This cell loads previous predictions if there are any\n",
    "import json\n",
    "with open(\"predictions-title-description-50.json\", \"r\") as json_file:\n",
    "    predictions = [prediction for prediction in json.load(json_file)]"
   ]
  },
  {
   "cell_type": "code",
   "execution_count": 18,
   "id": "e9e51fe8",
   "metadata": {},
   "outputs": [
    {
     "data": {
      "text/plain": [
       "{'sequence': '3 3 3 Soil fertility at village level Episode 3\\n\\nVideo about Soil fertility at village level',\n",
       " 'labels': ['language communication',\n",
       "  'behaviour society',\n",
       "  'economy business',\n",
       "  'planet environment',\n",
       "  'technology',\n",
       "  'arts culture',\n",
       "  'health medicine',\n",
       "  'law policy',\n",
       "  'education upbringing',\n",
       "  'science engineering mathematics computers'],\n",
       " 'scores': [0.4037513732910156,\n",
       "  0.21996337175369263,\n",
       "  0.11653092503547668,\n",
       "  0.08561424165964127,\n",
       "  0.045540787279605865,\n",
       "  0.037666305899620056,\n",
       "  0.033250585198402405,\n",
       "  0.023759331554174423,\n",
       "  0.023466357961297035,\n",
       "  0.010456628166139126]}"
      ]
     },
     "execution_count": 18,
     "metadata": {},
     "output_type": "execute_result"
    }
   ],
   "source": [
    "# This is what a pipeline prediction looks like\n",
    "predictions[0]"
   ]
  },
  {
   "cell_type": "markdown",
   "id": "9421952f",
   "metadata": {},
   "source": [
    "Multi-class evaluation\n",
    "-------------------------------\n",
    "\n",
    "Our first simple evaluation metric is to one-hot encode the predictions output and look at some metrics.\n",
    "This is not a great method, because one-hot isn't very suitable for multi-class,\n",
    "but since we also have some single class data it seems indicative"
   ]
  },
  {
   "cell_type": "code",
   "execution_count": 19,
   "id": "ba2a99c7",
   "metadata": {},
   "outputs": [],
   "source": [
    "# Defining some functions that help to evaluate multi-class predictions\n",
    "\n",
    "labels_list = list(discipline_labels.keys())\n",
    "\n",
    "def label_vector_from_labels(labels):\n",
    "    vector = []\n",
    "    for label in labels_list:\n",
    "        vector.append(label in labels)\n",
    "    return vector\n",
    "\n",
    "def label_vector_from_classes(classes):\n",
    "    vector = []\n",
    "    for label in labels_list:\n",
    "        vector.append(discipline_labels[label] in classes)\n",
    "    return vector"
   ]
  },
  {
   "cell_type": "code",
   "execution_count": 20,
   "id": "fc6467bf",
   "metadata": {},
   "outputs": [
    {
     "name": "stdout",
     "output_type": "stream",
     "text": [
      "                                           precision    recall  f1-score   support\n",
      "\n",
      "                        behaviour society       0.23      0.47      0.30       219\n",
      "                               law policy       1.00      0.17      0.29        59\n",
      "                     education upbringing       0.02      0.08      0.03        26\n",
      "                   language communication       0.20      0.14      0.17       218\n",
      "                               technology       0.16      0.30      0.21       127\n",
      "                          health medicine       0.00      0.00      0.00        23\n",
      "science engineering mathematics computers       0.00      0.00      0.00        70\n",
      "                         economy business       0.14      0.10      0.11       103\n",
      "                       planet environment       0.29      0.06      0.09       216\n",
      "                             arts culture       1.00      0.01      0.02       122\n",
      "\n",
      "                                micro avg       0.19      0.17      0.18      1183\n",
      "                                macro avg       0.30      0.13      0.12      1183\n",
      "                             weighted avg       0.31      0.17      0.15      1183\n",
      "                              samples avg       0.19      0.18      0.18      1183\n",
      "\n"
     ]
    },
    {
     "name": "stderr",
     "output_type": "stream",
     "text": [
      "/home/fako/Code/miniconda3/envs/autometa/lib/python3.10/site-packages/sklearn/metrics/_classification.py:1334: UndefinedMetricWarning: Precision and F-score are ill-defined and being set to 0.0 in labels with no predicted samples. Use `zero_division` parameter to control this behavior.\n",
      "  _warn_prf(average, modifier, msg_start, len(result))\n"
     ]
    }
   ],
   "source": [
    "y_true = [label_vector_from_classes(classes) for classes in prepared_data[\"train\"][\"discipline\"]]\n",
    "y_pred = [label_vector_from_labels([prediction[\"labels\"][0]]) for prediction in predictions]\n",
    "print(classification_report(y_true, y_pred, target_names=labels_list))"
   ]
  },
  {
   "cell_type": "markdown",
   "id": "89b0191a",
   "metadata": {},
   "source": [
    "Determining thresholds\n",
    "----------------------------------\n",
    "\n",
    "These first results are still pretty far off from where we want them to be. Let's see if we can decide on better thresholds.\n",
    "\n",
    "\n",
    "The goal for the threshold is to have at least 95% precision with a maximum recall. Given the precisions and recalls for different thresholds we can find which threshold meets our criteria."
   ]
  },
  {
   "cell_type": "code",
   "execution_count": 21,
   "id": "03304d19",
   "metadata": {},
   "outputs": [],
   "source": [
    "# Defining some helper functions to determine thresholds\n",
    "\n",
    "def binary_labels_and_scores_for_discipline(label):\n",
    "    y_true = [discipline_labels[label] in classes for classes in prepared_data[\"train\"][\"discipline\"]]\n",
    "    y_scores = []\n",
    "    for prediction in predictions:\n",
    "        ix = prediction[\"labels\"].index(label)\n",
    "        y_scores.append(prediction[\"scores\"][ix])\n",
    "    return y_true, y_scores\n",
    "\n",
    "def determine_threshold(precisions, recalls, thresholds, minimal_precision=.95):\n",
    "    optimal_precision = None\n",
    "    optimal_recall = 0\n",
    "    optimal_threshold = None\n",
    "\n",
    "    for prc, rec, thr in zip(precisions, recalls, thresholds):\n",
    "        if prc < minimal_precision or rec < optimal_recall:\n",
    "            continue\n",
    "        optimal_precision = prc\n",
    "        optimal_recall = rec\n",
    "        optimal_threshold = thr\n",
    "    return optimal_precision, optimal_recall, optimal_threshold"
   ]
  },
  {
   "cell_type": "code",
   "execution_count": 25,
   "id": "fc1b8032",
   "metadata": {},
   "outputs": [],
   "source": [
    "y_true, y_scores = binary_labels_and_scores_for_discipline(\"law policy\")"
   ]
  },
  {
   "cell_type": "code",
   "execution_count": 26,
   "id": "c2bff930",
   "metadata": {},
   "outputs": [
    {
     "data": {
      "text/plain": [
       "<sklearn.metrics._plot.precision_recall_curve.PrecisionRecallDisplay at 0x7fd5180d6410>"
      ]
     },
     "execution_count": 26,
     "metadata": {},
     "output_type": "execute_result"
    },
    {
     "data": {
      "image/png": "[encoded data removed]",
      "text/plain": [
       "<Figure size 640x480 with 1 Axes>"
      ]
     },
     "metadata": {},
     "output_type": "display_data"
    }
   ],
   "source": [
    "PrecisionRecallDisplay.from_predictions(y_true, y_scores, name=\"law policy\")"
   ]
  },
  {
   "cell_type": "code",
   "execution_count": 27,
   "id": "e1bc9836",
   "metadata": {},
   "outputs": [
    {
     "data": {
      "text/plain": [
       "(0.96, 0.4067796610169492, 0.142727792263031)"
      ]
     },
     "execution_count": 27,
     "metadata": {},
     "output_type": "execute_result"
    }
   ],
   "source": [
    "precisions, recalls, thresholds = precision_recall_curve(y_true, y_scores)\n",
    "determine_threshold(precisions, recalls, thresholds)"
   ]
  },
  {
   "cell_type": "markdown",
   "id": "389c68bd",
   "metadata": {},
   "source": [
    "First results\n",
    "-----------------\n",
    "\n",
    "So for one class we're able to determine that in our data we can set a certain threshold and then it will pick out 41% of those classes while making few errors.\n",
    "\n",
    "Currently the input is the title and description of a material. It could be interesting to try to add the cleaned Tika text. Another approach would be to add our own \"head\" to the model. This would require training and that means we'll need more data. We're using a rather small language model at the moment. Moving to a bigger model like Bloom is also expected to yield better results."
   ]
  },
  {
   "cell_type": "code",
   "execution_count": null,
   "id": "e7d0c8bb",
   "metadata": {},
   "outputs": [],
   "source": []
  },
  {
   "cell_type": "code",
   "execution_count": null,
   "id": "4830a403",
   "metadata": {},
   "outputs": [],
   "source": [
    "optimal_thresholds = {}\n",
    "precision_and_recall = {}\n",
    "for label in discipline_labels:\n",
    "    y_true, y_scores = binary_labels_and_scores_for_discipline(label)\n",
    "    precisions, recalls, thresholds = precision_recall_curve(y_true, y_scores)\n",
    "    precision, recall, threshold = determine_threshold(precisions, recalls, thresholds)\n",
    "    optimal_thresholds[label] = threshold\n",
    "    precision_and_recall[label] = [precision, recall]"
   ]
  }
 ],
 "metadata": {
  "kernelspec": {
   "display_name": "Python 3 (ipykernel)",
   "language": "python",
   "name": "python3"
  },
  "language_info": {
   "codemirror_mode": {
    "name": "ipython",
    "version": 3
   },
   "file_extension": ".py",
   "mimetype": "text/x-python",
   "name": "python",
   "nbconvert_exporter": "python",
   "pygments_lexer": "ipython3",
   "version": "3.10.8"
  }
 },
 "nbformat": 4,
 "nbformat_minor": 5
}
